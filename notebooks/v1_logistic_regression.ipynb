{
 "cells": [
  {
   "cell_type": "code",
   "execution_count": 136,
   "metadata": {},
   "outputs": [],
   "source": [
    "import pandas as pd\n",
    "import os\n",
    "from sklearn.linear_model import LogisticRegression\n",
    "from sklearn.feature_extraction.text import TfidfVectorizer\n",
    "from collections import defaultdict\n",
    "import math\n",
    "from sklearn.model_selection import train_test_split\n",
    "from sklearn.decomposition import TruncatedSVD"
   ]
  },
  {
   "cell_type": "code",
   "execution_count": 137,
   "metadata": {},
   "outputs": [
    {
     "data": {
      "text/html": [
       "<div>\n",
       "<style scoped>\n",
       "    .dataframe tbody tr th:only-of-type {\n",
       "        vertical-align: middle;\n",
       "    }\n",
       "\n",
       "    .dataframe tbody tr th {\n",
       "        vertical-align: top;\n",
       "    }\n",
       "\n",
       "    .dataframe thead th {\n",
       "        text-align: right;\n",
       "    }\n",
       "</style>\n",
       "<table border=\"1\" class=\"dataframe\">\n",
       "  <thead>\n",
       "    <tr style=\"text-align: right;\">\n",
       "      <th></th>\n",
       "      <th>File_name</th>\n",
       "      <th>Contents Page</th>\n",
       "      <th>Book Title</th>\n",
       "      <th>Author</th>\n",
       "      <th>Edition</th>\n",
       "      <th>Product Type</th>\n",
       "      <th>Copyright Year</th>\n",
       "      <th>Language</th>\n",
       "      <th>Language Collection</th>\n",
       "      <th>Series Title</th>\n",
       "      <th>Subject Classification</th>\n",
       "      <th>Unnamed: 11</th>\n",
       "      <th>Unnamed: 12</th>\n",
       "      <th>Unnamed: 13</th>\n",
       "      <th>Unnamed: 14</th>\n",
       "      <th>Unnamed: 15</th>\n",
       "      <th>Unnamed: 16</th>\n",
       "    </tr>\n",
       "  </thead>\n",
       "  <tbody>\n",
       "    <tr>\n",
       "      <th>0</th>\n",
       "      <td>Fundamentals_of_Power_Electronics.pdf</td>\n",
       "      <td>6,16</td>\n",
       "      <td>Fundamentals of Power Electronics</td>\n",
       "      <td>Robert W. Erickson, Dragan Maksimovic</td>\n",
       "      <td>2nd ed. 2001</td>\n",
       "      <td>Graduate/advanced undergraduate textbook</td>\n",
       "      <td>2001</td>\n",
       "      <td>EN</td>\n",
       "      <td>English/International</td>\n",
       "      <td>NaN</td>\n",
       "      <td>Engineering; Circuits and Systems; Energy, gen...</td>\n",
       "      <td>NaN</td>\n",
       "      <td>NaN</td>\n",
       "      <td>NaN</td>\n",
       "      <td>NaN</td>\n",
       "      <td>NaN</td>\n",
       "      <td>NaN</td>\n",
       "    </tr>\n",
       "    <tr>\n",
       "      <th>1</th>\n",
       "      <td>Handbook_of_the_Life_Course.pdf</td>\n",
       "      <td>17,20</td>\n",
       "      <td>Handbook of the Life Course</td>\n",
       "      <td>Jeylan T. Mortimer, Michael J. Shanahan</td>\n",
       "      <td>2003</td>\n",
       "      <td>Graduate/advanced undergraduate textbook</td>\n",
       "      <td>2003</td>\n",
       "      <td>EN</td>\n",
       "      <td>English/International</td>\n",
       "      <td>Handbooks of Sociology and Social Research</td>\n",
       "      <td>Social Sciences; Sociology, general; Clinical ...</td>\n",
       "      <td>NaN</td>\n",
       "      <td>NaN</td>\n",
       "      <td>NaN</td>\n",
       "      <td>NaN</td>\n",
       "      <td>NaN</td>\n",
       "      <td>NaN</td>\n",
       "    </tr>\n",
       "    <tr>\n",
       "      <th>2</th>\n",
       "      <td>All_of_Statistics.pdf</td>\n",
       "      <td>12,18</td>\n",
       "      <td>All of Statistics</td>\n",
       "      <td>Larry Wasserman</td>\n",
       "      <td>2004</td>\n",
       "      <td>Graduate/advanced undergraduate textbook</td>\n",
       "      <td>2004</td>\n",
       "      <td>EN</td>\n",
       "      <td>English/International</td>\n",
       "      <td>Springer Texts in Statistics</td>\n",
       "      <td>Mathematics; Computational Mathematics and Num...</td>\n",
       "      <td>NaN</td>\n",
       "      <td>NaN</td>\n",
       "      <td>NaN</td>\n",
       "      <td>NaN</td>\n",
       "      <td>NaN</td>\n",
       "      <td>NaN</td>\n",
       "    </tr>\n",
       "    <tr>\n",
       "      <th>3</th>\n",
       "      <td>Social_Anxiety_and_Social_Phobia_in_Youth.pdf</td>\n",
       "      <td>9,10</td>\n",
       "      <td>Social Anxiety and Social Phobia in Youth</td>\n",
       "      <td>Christopher Kearney</td>\n",
       "      <td>2005</td>\n",
       "      <td>Graduate/advanced undergraduate textbook</td>\n",
       "      <td>2005</td>\n",
       "      <td>EN</td>\n",
       "      <td>English/International</td>\n",
       "      <td>Series in Anxiety and Related Disorders</td>\n",
       "      <td>Psychology</td>\n",
       "      <td>Clinical Psychology</td>\n",
       "      <td>Personality and Social Psychology</td>\n",
       "      <td>Community and Environmental Psychology</td>\n",
       "      <td>NaN</td>\n",
       "      <td>NaN</td>\n",
       "      <td>NaN</td>\n",
       "    </tr>\n",
       "    <tr>\n",
       "      <th>4</th>\n",
       "      <td>Discrete_Mathematics.pdf</td>\n",
       "      <td>7,9</td>\n",
       "      <td>Discrete Mathematics</td>\n",
       "      <td>László Lovász, József Pelikán, Katalin Veszter...</td>\n",
       "      <td>2003</td>\n",
       "      <td>Undergraduate textbook</td>\n",
       "      <td>2003</td>\n",
       "      <td>EN</td>\n",
       "      <td>English/International</td>\n",
       "      <td>Undergraduate Texts in Mathematics</td>\n",
       "      <td>Mathematics</td>\n",
       "      <td>Combinatorics</td>\n",
       "      <td>Number Theory</td>\n",
       "      <td>NaN</td>\n",
       "      <td>NaN</td>\n",
       "      <td>NaN</td>\n",
       "      <td>NaN</td>\n",
       "    </tr>\n",
       "  </tbody>\n",
       "</table>\n",
       "</div>"
      ],
      "text/plain": [
       "                                       File_name Contents Page  \\\n",
       "0          Fundamentals_of_Power_Electronics.pdf          6,16   \n",
       "1                Handbook_of_the_Life_Course.pdf         17,20   \n",
       "2                          All_of_Statistics.pdf         12,18   \n",
       "3  Social_Anxiety_and_Social_Phobia_in_Youth.pdf          9,10   \n",
       "4                       Discrete_Mathematics.pdf           7,9   \n",
       "\n",
       "                                  Book Title  \\\n",
       "0          Fundamentals of Power Electronics   \n",
       "1                Handbook of the Life Course   \n",
       "2                          All of Statistics   \n",
       "3  Social Anxiety and Social Phobia in Youth   \n",
       "4                       Discrete Mathematics   \n",
       "\n",
       "                                              Author       Edition  \\\n",
       "0              Robert W. Erickson, Dragan Maksimovic  2nd ed. 2001   \n",
       "1            Jeylan T. Mortimer, Michael J. Shanahan          2003   \n",
       "2                                    Larry Wasserman          2004   \n",
       "3                                Christopher Kearney          2005   \n",
       "4  László Lovász, József Pelikán, Katalin Veszter...          2003   \n",
       "\n",
       "                               Product Type  Copyright Year Language  \\\n",
       "0  Graduate/advanced undergraduate textbook            2001       EN   \n",
       "1  Graduate/advanced undergraduate textbook            2003       EN   \n",
       "2  Graduate/advanced undergraduate textbook            2004       EN   \n",
       "3  Graduate/advanced undergraduate textbook            2005       EN   \n",
       "4                    Undergraduate textbook            2003       EN   \n",
       "\n",
       "     Language Collection                                Series Title  \\\n",
       "0  English/International                                         NaN   \n",
       "1  English/International  Handbooks of Sociology and Social Research   \n",
       "2  English/International                Springer Texts in Statistics   \n",
       "3  English/International     Series in Anxiety and Related Disorders   \n",
       "4  English/International          Undergraduate Texts in Mathematics   \n",
       "\n",
       "                              Subject Classification           Unnamed: 11  \\\n",
       "0  Engineering; Circuits and Systems; Energy, gen...                   NaN   \n",
       "1  Social Sciences; Sociology, general; Clinical ...                   NaN   \n",
       "2  Mathematics; Computational Mathematics and Num...                   NaN   \n",
       "3                                         Psychology   Clinical Psychology   \n",
       "4                                        Mathematics         Combinatorics   \n",
       "\n",
       "                          Unnamed: 12  \\\n",
       "0                                 NaN   \n",
       "1                                 NaN   \n",
       "2                                 NaN   \n",
       "3   Personality and Social Psychology   \n",
       "4                       Number Theory   \n",
       "\n",
       "                               Unnamed: 13 Unnamed: 14 Unnamed: 15 Unnamed: 16  \n",
       "0                                      NaN         NaN         NaN         NaN  \n",
       "1                                      NaN         NaN         NaN         NaN  \n",
       "2                                      NaN         NaN         NaN         NaN  \n",
       "3   Community and Environmental Psychology         NaN         NaN         NaN  \n",
       "4                                      NaN         NaN         NaN         NaN  "
      ]
     },
     "execution_count": 137,
     "metadata": {},
     "output_type": "execute_result"
    }
   ],
   "source": [
    "CURRENT_FILE_PATH = os.path.dirname(os.path.abspath(\"__file__\"))\n",
    "metadata = pd.read_csv(CURRENT_FILE_PATH + '/../data/external/textbooks_archive/Metadata.csv')\n",
    "metadata.head()"
   ]
  },
  {
   "cell_type": "code",
   "execution_count": 138,
   "metadata": {},
   "outputs": [
    {
     "data": {
      "text/plain": [
       "['Fundamentals_of_Power_Electronics.pdf',\n",
       " 'Handbook_of_the_Life_Course.pdf',\n",
       " 'All_of_Statistics.pdf',\n",
       " 'Social_Anxiety_and_Social_Phobia_in_Youth.pdf',\n",
       " 'Discrete_Mathematics.pdf',\n",
       " 'Developmental_Neurobiology.pdf',\n",
       " 'Intuitive_Probability_and_Random_Processes_using_MATLAB.pdf',\n",
       " 'Handbook_of_Disaster_Research.pdf',\n",
       " 'Handbook_of_the_Sociology_of_Gender.pdf',\n",
       " 'Handbook_of_Sociological_Theory.pdf',\n",
       " 'Clinical_Neuroanatomy.pdf',\n",
       " 'Acquired_Brain_Injury.pdf',\n",
       " 'Numerical_Optimization.pdf',\n",
       " 'Handbook_of_Biological_Confocal_Microscopy.pdf',\n",
       " 'Ceramic_Materials.pdf']"
      ]
     },
     "execution_count": 138,
     "metadata": {},
     "output_type": "execute_result"
    }
   ],
   "source": [
    "textbook_names = [file_name for file_name in metadata.loc[metadata['Contents Page'].notnull()]['File_name']]\n",
    "\n",
    "textbooks_df = {}\n",
    "\n",
    "for name in textbook_names:\n",
    "    textbooks_df[name] = pd.read_csv(CURRENT_FILE_PATH + f'/../data/processed/tesseract_csvs/{name}.csv')\n",
    "\n",
    "list(textbooks_df.keys())"
   ]
  },
  {
   "cell_type": "code",
   "execution_count": 139,
   "metadata": {},
   "outputs": [
    {
     "data": {
      "text/html": [
       "<div>\n",
       "<style scoped>\n",
       "    .dataframe tbody tr th:only-of-type {\n",
       "        vertical-align: middle;\n",
       "    }\n",
       "\n",
       "    .dataframe tbody tr th {\n",
       "        vertical-align: top;\n",
       "    }\n",
       "\n",
       "    .dataframe thead th {\n",
       "        text-align: right;\n",
       "    }\n",
       "</style>\n",
       "<table border=\"1\" class=\"dataframe\">\n",
       "  <thead>\n",
       "    <tr style=\"text-align: right;\">\n",
       "      <th></th>\n",
       "      <th>page_texts</th>\n",
       "      <th>is_content_page</th>\n",
       "    </tr>\n",
       "  </thead>\n",
       "  <tbody>\n",
       "    <tr>\n",
       "      <th>0</th>\n",
       "      <td>ELE Sato, Power Electronics SA eee a &gt; ;.</td>\n",
       "      <td>False</td>\n",
       "    </tr>\n",
       "    <tr>\n",
       "      <th>1</th>\n",
       "      <td>Fundamentals of Power Electronics SECOND EDITION</td>\n",
       "      <td>False</td>\n",
       "    </tr>\n",
       "    <tr>\n",
       "      <th>2</th>\n",
       "      <td>Fundamentals of Power Electronics SECOND EDITI...</td>\n",
       "      <td>False</td>\n",
       "    </tr>\n",
       "    <tr>\n",
       "      <th>3</th>\n",
       "      <td>Distributors for North, Central and South Amer...</td>\n",
       "      <td>False</td>\n",
       "    </tr>\n",
       "    <tr>\n",
       "      <th>4</th>\n",
       "      <td>Dedicated to Linda, William, and Richard Lidij...</td>\n",
       "      <td>False</td>\n",
       "    </tr>\n",
       "  </tbody>\n",
       "</table>\n",
       "</div>"
      ],
      "text/plain": [
       "                                          page_texts  is_content_page\n",
       "0          ELE Sato, Power Electronics SA eee a > ;.            False\n",
       "1   Fundamentals of Power Electronics SECOND EDITION            False\n",
       "2  Fundamentals of Power Electronics SECOND EDITI...            False\n",
       "3  Distributors for North, Central and South Amer...            False\n",
       "4  Dedicated to Linda, William, and Richard Lidij...            False"
      ]
     },
     "execution_count": 139,
     "metadata": {},
     "output_type": "execute_result"
    }
   ],
   "source": [
    "def sort_words_in_reading_order(words):\n",
    "    result = []\n",
    "    for word in sorted(words, key=lambda x: (math.floor(x['top']/25.0), math.floor(x['left']/25.0))):\n",
    "        if isinstance(word['text'], str):\n",
    "            result.append(word['text'])\n",
    "    return ' '.join(result)\n",
    "\n",
    "\n",
    "def check_if_content_page(textbook_name, page_number, metadata):\n",
    "    contents_page = metadata.loc[(metadata['File_name'] == textbook_name), 'Contents Page'].iloc[0]\n",
    "    start_page, end_page = [int(page_num) for page_num in contents_page.split(',')]\n",
    "    return page_number >= start_page and page_number <= end_page\n",
    "\n",
    "pages = defaultdict(list)\n",
    "\n",
    "for name, df in textbooks_df.items():\n",
    "    page_numbers = sorted(df['page_num'].unique())\n",
    "    for page_num in page_numbers:\n",
    "        words = df.loc[df['page_num'] == page_num, ['text', 'left', 'top', 'width', 'height']].to_dict('records')\n",
    "        pages['page_texts'].append(sort_words_in_reading_order(words))\n",
    "        pages['is_content_page'].append(check_if_content_page(name, page_num, metadata))\n",
    "\n",
    "pages_text_df = pd.DataFrame.from_dict(pages)\n",
    "pages_text_df.head()"
   ]
  },
  {
   "cell_type": "code",
   "execution_count": 140,
   "metadata": {},
   "outputs": [
    {
     "data": {
      "text/html": [
       "<div>\n",
       "<style scoped>\n",
       "    .dataframe tbody tr th:only-of-type {\n",
       "        vertical-align: middle;\n",
       "    }\n",
       "\n",
       "    .dataframe tbody tr th {\n",
       "        vertical-align: top;\n",
       "    }\n",
       "\n",
       "    .dataframe thead th {\n",
       "        text-align: right;\n",
       "    }\n",
       "</style>\n",
       "<table border=\"1\" class=\"dataframe\">\n",
       "  <thead>\n",
       "    <tr style=\"text-align: right;\">\n",
       "      <th></th>\n",
       "      <th>page_texts</th>\n",
       "      <th>is_content_page</th>\n",
       "    </tr>\n",
       "  </thead>\n",
       "  <tbody>\n",
       "    <tr>\n",
       "      <th>92</th>\n",
       "      <td>Brief Survey of 4.2. A Power Semiconductor Dev...</td>\n",
       "      <td>False</td>\n",
       "    </tr>\n",
       "    <tr>\n",
       "      <th>7586</th>\n",
       "      <td>32 Chapter 2 J.B. Pawley ¢ 200 um i a 5x5 | Se...</td>\n",
       "      <td>False</td>\n",
       "    </tr>\n",
       "    <tr>\n",
       "      <th>827</th>\n",
       "      <td>826 Simulation of Converters points, the quies...</td>\n",
       "      <td>False</td>\n",
       "    </tr>\n",
       "    <tr>\n",
       "      <th>7149</th>\n",
       "      <td>288 CHAPTER 11. NONLINEAR EQUATIONS We now inv...</td>\n",
       "      <td>False</td>\n",
       "    </tr>\n",
       "    <tr>\n",
       "      <th>8505</th>\n",
       "      <td>Index 951 plants. See also, Botanical specimen...</td>\n",
       "      <td>False</td>\n",
       "    </tr>\n",
       "  </tbody>\n",
       "</table>\n",
       "</div>"
      ],
      "text/plain": [
       "                                             page_texts  is_content_page\n",
       "92    Brief Survey of 4.2. A Power Semiconductor Dev...            False\n",
       "7586  32 Chapter 2 J.B. Pawley ¢ 200 um i a 5x5 | Se...            False\n",
       "827   826 Simulation of Converters points, the quies...            False\n",
       "7149  288 CHAPTER 11. NONLINEAR EQUATIONS We now inv...            False\n",
       "8505  Index 951 plants. See also, Botanical specimen...            False"
      ]
     },
     "execution_count": 140,
     "metadata": {},
     "output_type": "execute_result"
    }
   ],
   "source": [
    "train, valid = train_test_split(pages_text_df, test_size=0.2)\n",
    "train.head()"
   ]
  },
  {
   "cell_type": "code",
   "execution_count": 141,
   "metadata": {},
   "outputs": [
    {
     "name": "stdout",
     "output_type": "stream",
     "text": [
      "Number of training samples: 7452\n",
      "Number of positive training samples: 63\n",
      "Number of validation samples: 1863\n",
      "Number of positive validation samples: 22\n"
     ]
    }
   ],
   "source": [
    "print(f\"Number of training samples: {len(train)}\")\n",
    "print(f\"Number of positive training samples: {len(train.loc[train['is_content_page'] == True, :])}\")\n",
    "print(f\"Number of validation samples: {len(valid)}\")\n",
    "print(f\"Number of positive validation samples: {len(valid.loc[valid['is_content_page'] == True, :])}\")"
   ]
  },
  {
   "cell_type": "code",
   "execution_count": 142,
   "metadata": {},
   "outputs": [
    {
     "data": {
      "text/plain": [
       "(7452, 4310363)"
      ]
     },
     "execution_count": 142,
     "metadata": {},
     "output_type": "execute_result"
    }
   ],
   "source": [
    "# vectorize page text\n",
    "tfidf_vect = TfidfVectorizer(stop_words='english', ngram_range=(1,3))\n",
    "tfidf_vect.fit(pages_text_df['page_texts'].values.tolist())\n",
    "\n",
    "train_tfidf = tfidf_vect.transform(train['page_texts'])\n",
    "valid_tfidf = tfidf_vect.transform(valid['page_texts'])\n",
    "\n",
    "train_tfidf.shape"
   ]
  },
  {
   "cell_type": "code",
   "execution_count": 143,
   "metadata": {},
   "outputs": [
    {
     "data": {
      "text/plain": [
       "(7452, 1)"
      ]
     },
     "execution_count": 143,
     "metadata": {},
     "output_type": "execute_result"
    }
   ],
   "source": [
    "tsvd= TruncatedSVD(n_components=1)\n",
    "train_tsvd=tsvd.fit_transform(train_tfidf)\n",
    "valid_tsvd=tsvd.fit_transform(valid_tfidf)\n",
    "\n",
    "train_tsvd.shape"
   ]
  },
  {
   "cell_type": "code",
   "execution_count": 144,
   "metadata": {},
   "outputs": [
    {
     "data": {
      "text/plain": [
       "0.988191089640365"
      ]
     },
     "execution_count": 144,
     "metadata": {},
     "output_type": "execute_result"
    }
   ],
   "source": [
    "classifier = LogisticRegression(solver='sag')\n",
    "classifier.fit(train_tsvd, train['is_content_page'])\n",
    "\n",
    "classifier.score(valid_tsvd, valid['is_content_page'])"
   ]
  },
  {
   "cell_type": "code",
   "execution_count": null,
   "metadata": {},
   "outputs": [],
   "source": []
  }
 ],
 "metadata": {
  "interpreter": {
   "hash": "746b34415c925b7facb6b29ee6b5b84c2d849cb64ad4ca0e2bbb8574017315bd"
  },
  "kernelspec": {
   "display_name": "Python 3.9.7 ('textbook_page_classifier')",
   "language": "python",
   "name": "python3"
  },
  "language_info": {
   "codemirror_mode": {
    "name": "ipython",
    "version": 3
   },
   "file_extension": ".py",
   "mimetype": "text/x-python",
   "name": "python",
   "nbconvert_exporter": "python",
   "pygments_lexer": "ipython3",
   "version": "3.9.7"
  },
  "orig_nbformat": 4
 },
 "nbformat": 4,
 "nbformat_minor": 2
}
