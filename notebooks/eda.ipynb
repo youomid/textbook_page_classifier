{
 "cells": [
  {
   "cell_type": "code",
   "execution_count": 2,
   "metadata": {},
   "outputs": [],
   "source": [
    "import pandas as pd\n",
    "from wand.image import Image as WImage"
   ]
  },
  {
   "cell_type": "code",
   "execution_count": 3,
   "metadata": {},
   "outputs": [
    {
     "data": {
      "text/html": [
       "<div>\n",
       "<style scoped>\n",
       "    .dataframe tbody tr th:only-of-type {\n",
       "        vertical-align: middle;\n",
       "    }\n",
       "\n",
       "    .dataframe tbody tr th {\n",
       "        vertical-align: top;\n",
       "    }\n",
       "\n",
       "    .dataframe thead th {\n",
       "        text-align: right;\n",
       "    }\n",
       "</style>\n",
       "<table border=\"1\" class=\"dataframe\">\n",
       "  <thead>\n",
       "    <tr style=\"text-align: right;\">\n",
       "      <th></th>\n",
       "      <th>Unnamed: 0</th>\n",
       "      <th>textbook_name</th>\n",
       "      <th>page_number</th>\n",
       "      <th>page_texts</th>\n",
       "      <th>page_class</th>\n",
       "      <th>predicted_class</th>\n",
       "    </tr>\n",
       "  </thead>\n",
       "  <tbody>\n",
       "    <tr>\n",
       "      <th>0</th>\n",
       "      <td>1364</td>\n",
       "      <td>Handbook_of_the_Life_Course.pdf</td>\n",
       "      <td>483</td>\n",
       "      <td>Event History Models 485 (Aalen, 1978; Nelson,...</td>\n",
       "      <td>0</td>\n",
       "      <td>0</td>\n",
       "    </tr>\n",
       "    <tr>\n",
       "      <th>1</th>\n",
       "      <td>728</td>\n",
       "      <td>Fundamentals_of_Power_Electronics.pdf</td>\n",
       "      <td>729</td>\n",
       "      <td>19.3 Soft Switching 725 Vast t (t) | Vv, ig Fi...</td>\n",
       "      <td>0</td>\n",
       "      <td>0</td>\n",
       "    </tr>\n",
       "    <tr>\n",
       "      <th>2</th>\n",
       "      <td>2410</td>\n",
       "      <td>Discrete_Mathematics.pdf</td>\n",
       "      <td>140</td>\n",
       "      <td>134 7. Graphs 7.2.7 Let G be a graph, and let ...</td>\n",
       "      <td>0</td>\n",
       "      <td>0</td>\n",
       "    </tr>\n",
       "    <tr>\n",
       "      <th>3</th>\n",
       "      <td>1114</td>\n",
       "      <td>Handbook_of_the_Life_Course.pdf</td>\n",
       "      <td>233</td>\n",
       "      <td>Government and the Life Course 221 existing ‘a...</td>\n",
       "      <td>0</td>\n",
       "      <td>0</td>\n",
       "    </tr>\n",
       "    <tr>\n",
       "      <th>4</th>\n",
       "      <td>2155</td>\n",
       "      <td>Social_Anxiety_and_Social_Phobia_in_Youth.pdf</td>\n",
       "      <td>110</td>\n",
       "      <td>CLINICAL ASSESSMENT OF SOCIAL ANXIETY AND SOCI...</td>\n",
       "      <td>0</td>\n",
       "      <td>0</td>\n",
       "    </tr>\n",
       "  </tbody>\n",
       "</table>\n",
       "</div>"
      ],
      "text/plain": [
       "   Unnamed: 0                                  textbook_name  page_number  \\\n",
       "0        1364                Handbook_of_the_Life_Course.pdf          483   \n",
       "1         728          Fundamentals_of_Power_Electronics.pdf          729   \n",
       "2        2410                       Discrete_Mathematics.pdf          140   \n",
       "3        1114                Handbook_of_the_Life_Course.pdf          233   \n",
       "4        2155  Social_Anxiety_and_Social_Phobia_in_Youth.pdf          110   \n",
       "\n",
       "                                          page_texts  page_class  \\\n",
       "0  Event History Models 485 (Aalen, 1978; Nelson,...           0   \n",
       "1  19.3 Soft Switching 725 Vast t (t) | Vv, ig Fi...           0   \n",
       "2  134 7. Graphs 7.2.7 Let G be a graph, and let ...           0   \n",
       "3  Government and the Life Course 221 existing ‘a...           0   \n",
       "4  CLINICAL ASSESSMENT OF SOCIAL ANXIETY AND SOCI...           0   \n",
       "\n",
       "   predicted_class  \n",
       "0                0  \n",
       "1                0  \n",
       "2                0  \n",
       "3                0  \n",
       "4                0  "
      ]
     },
     "execution_count": 3,
     "metadata": {},
     "output_type": "execute_result"
    }
   ],
   "source": [
    "results = pd.read_csv('../output/v1_logistic_regression_results.csv')\n",
    "results.head()"
   ]
  },
  {
   "cell_type": "code",
   "execution_count": 9,
   "metadata": {},
   "outputs": [
    {
     "data": {
      "text/html": [
       "<div>\n",
       "<style scoped>\n",
       "    .dataframe tbody tr th:only-of-type {\n",
       "        vertical-align: middle;\n",
       "    }\n",
       "\n",
       "    .dataframe tbody tr th {\n",
       "        vertical-align: top;\n",
       "    }\n",
       "\n",
       "    .dataframe thead th {\n",
       "        text-align: right;\n",
       "    }\n",
       "</style>\n",
       "<table border=\"1\" class=\"dataframe\">\n",
       "  <thead>\n",
       "    <tr style=\"text-align: right;\">\n",
       "      <th></th>\n",
       "      <th>Unnamed: 0</th>\n",
       "      <th>textbook_name</th>\n",
       "      <th>page_number</th>\n",
       "      <th>page_texts</th>\n",
       "      <th>page_class</th>\n",
       "      <th>predicted_class</th>\n",
       "    </tr>\n",
       "  </thead>\n",
       "  <tbody>\n",
       "    <tr>\n",
       "      <th>14</th>\n",
       "      <td>1616</td>\n",
       "      <td>All_of_Statistics.pdf</td>\n",
       "      <td>17</td>\n",
       "      <td>xviii Contents 18.3 Cliques and Potentials ......</td>\n",
       "      <td>1</td>\n",
       "      <td>1</td>\n",
       "    </tr>\n",
       "    <tr>\n",
       "      <th>206</th>\n",
       "      <td>1615</td>\n",
       "      <td>All_of_Statistics.pdf</td>\n",
       "      <td>16</td>\n",
       "      <td>Contents xvii 13.6 Model Selection... 2... ee ...</td>\n",
       "      <td>1</td>\n",
       "      <td>1</td>\n",
       "    </tr>\n",
       "  </tbody>\n",
       "</table>\n",
       "</div>"
      ],
      "text/plain": [
       "     Unnamed: 0          textbook_name  page_number  \\\n",
       "14         1616  All_of_Statistics.pdf           17   \n",
       "206        1615  All_of_Statistics.pdf           16   \n",
       "\n",
       "                                            page_texts  page_class  \\\n",
       "14   xviii Contents 18.3 Cliques and Potentials ......           1   \n",
       "206  Contents xvii 13.6 Model Selection... 2... ee ...           1   \n",
       "\n",
       "     predicted_class  \n",
       "14                 1  \n",
       "206                1  "
      ]
     },
     "execution_count": 9,
     "metadata": {},
     "output_type": "execute_result"
    }
   ],
   "source": [
    "incorrect_results = results.loc[results['page_class'] != results['predicted_class'], :]\n",
    "incorrect_results = results.loc[1 == results['predicted_class'], :]\n",
    "incorrect_results"
   ]
  },
  {
   "cell_type": "code",
   "execution_count": 8,
   "metadata": {},
   "outputs": [
    {
     "data": {
      "image/png": "[encoded data removed]",
      "text/plain": [
       "<wand.image.Image: 8f4eb57 'PDF' (505x720)>"
      ]
     },
     "execution_count": 8,
     "metadata": {},
     "output_type": "execute_result"
    }
   ],
   "source": [
    "sample = incorrect_results.loc[incorrect_results['Unnamed: 0'] == 13, :].iloc[0]\n",
    "img = WImage(filename=f'../data/external/textbooks_archive/data/{sample.textbook_name}[{sample.page_number-1}]')\n",
    "img.resize(1000, 1200)\n",
    "img"
   ]
  },
  {
   "cell_type": "code",
   "execution_count": null,
   "metadata": {},
   "outputs": [],
   "source": []
  },
  {
   "cell_type": "code",
   "execution_count": null,
   "metadata": {},
   "outputs": [],
   "source": []
  }
 ],
 "metadata": {
  "interpreter": {
   "hash": "746b34415c925b7facb6b29ee6b5b84c2d849cb64ad4ca0e2bbb8574017315bd"
  },
  "kernelspec": {
   "display_name": "Python 3.9.7 ('textbook_page_classifier')",
   "language": "python",
   "name": "python3"
  },
  "language_info": {
   "codemirror_mode": {
    "name": "ipython",
    "version": 3
   },
   "file_extension": ".py",
   "mimetype": "text/x-python",
   "name": "python",
   "nbconvert_exporter": "python",
   "pygments_lexer": "ipython3",
   "version": "3.9.7"
  },
  "orig_nbformat": 4
 },
 "nbformat": 4,
 "nbformat_minor": 2
}
